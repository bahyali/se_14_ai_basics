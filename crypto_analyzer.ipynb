{
 "cells": [
  {
   "cell_type": "markdown",
   "id": "1a9c918ad8f89865",
   "metadata": {},
   "source": [
    "# Crypto Analyzer\n",
    "\n",
    "Actions: {Buy, Sell, Hold}\n",
    "\n",
    "Goal: Max(Profit)\n",
    "\n",
    "State: Position (crypto inventory)\n",
    "\n",
    "\n",
    "## Limitations\n",
    "\n",
    "- Buys \"whole\" coin only. Test it for BTC with 1M+.\n",
    "- Always buys at first.\n",
    "- Always sells at the end.\n",
    "\n",
    "## Future work\n",
    "\n",
    "- Fix limitations.\n",
    "- Give it a portfolio and let it take best decision in real time.\n",
    "\n",
    "## Visualization\n"
   ]
  },
  {
   "cell_type": "code",
   "execution_count": 13,
   "id": "initial_id",
   "metadata": {
    "ExecuteTime": {
     "end_time": "2024-11-15T08:53:06.196861Z",
     "start_time": "2024-11-15T08:53:06.194018Z"
    },
    "collapsed": true
   },
   "outputs": [],
   "source": [
    "from collections import deque\n",
    "\n",
    "import requests\n",
    "\n",
    "\n",
    "def get_historical_prices(pair, interval):\n",
    "    url = 'https://api.kraken.com/0/public/OHLC'\n",
    "    params = {\n",
    "        'pair': pair,\n",
    "        'interval': interval,\n",
    "    }\n",
    "\n",
    "    response = requests.get(url, params=params)\n",
    "    data = response.json()\n",
    "\n",
    "    if data['error']:\n",
    "        raise Exception(f\"API Error: {data['error']}\")\n",
    "\n",
    "    pair_name = list(data['result'].keys())[0]\n",
    "    ohlc_data = data['result'][pair_name]\n",
    "\n",
    "    prices = [float(entry[4]) for entry in ohlc_data]  # Closing prices\n",
    "    timestamps = [int(entry[0]) for entry in ohlc_data]\n",
    "\n",
    "    return prices, timestamps"
   ]
  },
  {
   "cell_type": "code",
   "execution_count": 14,
   "id": "d32a3e3426d03d16",
   "metadata": {
    "ExecuteTime": {
     "end_time": "2024-11-15T08:53:06.210171Z",
     "start_time": "2024-11-15T08:53:06.207304Z"
    }
   },
   "outputs": [],
   "source": [
    "def dfs(prices, budget, position, index, path, max_result):\n",
    "    # Base condition\n",
    "    if index == len(prices):\n",
    "        total = budget + position * prices[-1]\n",
    "        # choose the winning pathes only\n",
    "        if total > max_result['profit']:\n",
    "            max_result['profit'] = total\n",
    "            max_result['path'] = path.copy()\n",
    "        return\n",
    "\n",
    "    # Try buying if not holding any position\n",
    "    if position == 0 and budget >= prices[index]:\n",
    "        dfs(\n",
    "            prices,\n",
    "            0,  # Spend all budget\n",
    "            budget / prices[index],  # distribute the budget\n",
    "            index + 1,  # next timestamp\n",
    "            path + [('buy', index)],  # save path\n",
    "            max_result  # save state\n",
    "        )\n",
    "\n",
    "    # Try selling if holding a position\n",
    "    if position > 0:\n",
    "        dfs(\n",
    "            prices,\n",
    "            budget + position * prices[index],\n",
    "            0,  # Sell all holdings\n",
    "            index + 1,\n",
    "            path + [('sell', index)],\n",
    "            max_result\n",
    "        )\n",
    "\n",
    "    # Hold\n",
    "    dfs(\n",
    "        prices,\n",
    "        budget,\n",
    "        position,\n",
    "        index + 1,\n",
    "        path + [('hold', index)],\n",
    "        max_result\n",
    "    )\n"
   ]
  },
  {
   "cell_type": "code",
   "execution_count": 15,
   "id": "b03c41b3ff0c6b2a",
   "metadata": {
    "ExecuteTime": {
     "end_time": "2024-11-15T08:53:06.217743Z",
     "start_time": "2024-11-15T08:53:06.215202Z"
    }
   },
   "outputs": [],
   "source": [
    "def bfs(prices, budget):\n",
    "    max_profit = 0\n",
    "    best_path = []\n",
    "    queue = deque()\n",
    "    queue.append((budget, 0, 0, []))  # (budget, position, index, path)\n",
    "\n",
    "    while queue:\n",
    "        budget, position, index, path = queue.popleft()\n",
    "\n",
    "        if index == len(prices):\n",
    "            total = budget + position * prices[-1]\n",
    "            if total > max_profit:\n",
    "                max_profit = total\n",
    "                best_path = path\n",
    "            continue\n",
    "\n",
    "        # Buy\n",
    "        if position == 0 and budget >= prices[index]:\n",
    "            queue.append((\n",
    "                0,\n",
    "                budget / prices[index],\n",
    "                index + 1,\n",
    "                path + [('buy', index)]\n",
    "            ))\n",
    "\n",
    "        # Sell\n",
    "        if position > 0:\n",
    "            queue.append((\n",
    "                budget + position * prices[index],\n",
    "                0,\n",
    "                index + 1,\n",
    "                path + [('sell', index)]\n",
    "            ))\n",
    "\n",
    "        # Hold\n",
    "        queue.append((\n",
    "            budget,\n",
    "            position,\n",
    "            index + 1,\n",
    "            path + [('hold', index)]\n",
    "        ))\n",
    "\n",
    "    return max_profit, best_path"
   ]
  },
  {
   "cell_type": "code",
   "execution_count": 16,
   "id": "1ec53a9006b4c70b",
   "metadata": {
    "ExecuteTime": {
     "end_time": "2024-11-15T08:53:06.224440Z",
     "start_time": "2024-11-15T08:53:06.221931Z"
    }
   },
   "outputs": [],
   "source": [
    "def heuristic_search(prices, budget):\n",
    "    position = 0\n",
    "    path = []\n",
    "    for i in range(len(prices) - 1):\n",
    "        # Simple heuristic: Buy if next price is higher, sell if lower\n",
    "        if prices[i + 1] > prices[i] and position == 0 and budget >= prices[i]:\n",
    "            # Buy\n",
    "            position = budget / prices[i]\n",
    "            budget = 0\n",
    "            path.append(('buy', i))\n",
    "        elif prices[i + 1] < prices[i] and position > 0:\n",
    "            # Sell\n",
    "            budget += position * prices[i]\n",
    "            position = 0\n",
    "            path.append(('sell', i))\n",
    "        else:\n",
    "            # Hold\n",
    "            path.append(('hold', i))\n",
    "\n",
    "    # Sell any remaining position at the end\n",
    "    if position > 0:\n",
    "        budget += position * prices[-1]\n",
    "        path.append(('sell', len(prices) - 1))\n",
    "\n",
    "    return budget, path"
   ]
  },
  {
   "cell_type": "code",
   "execution_count": 17,
   "id": "db6a805b54417bd8",
   "metadata": {
    "ExecuteTime": {
     "end_time": "2024-11-15T08:53:06.230906Z",
     "start_time": "2024-11-15T08:53:06.228340Z"
    }
   },
   "outputs": [],
   "source": [
    "import matplotlib.pyplot as plt\n",
    "\n",
    "\n",
    "def plot_positions(prices, timestamps, path, strategy_name):\n",
    "    \"\"\"\n",
    "    Plots the prices and marks the buy and sell positions.\n",
    "\n",
    "    :param prices: List of prices\n",
    "    :param timestamps: List of timestamps corresponding to the prices\n",
    "    :param path: List of actions taken (buy/sell/hold)\n",
    "    :param strategy_name: Name of the strategy for the plot title\n",
    "    \"\"\"\n",
    "    from datetime import datetime\n",
    "\n",
    "    # Convert timestamps to datetime objects\n",
    "    dates = [datetime.fromtimestamp(ts) for ts in timestamps]\n",
    "\n",
    "    # Prepare buy and sell positions\n",
    "    buy_indices = [action[1] for action in path if action[0] == 'buy']\n",
    "    sell_indices = [action[1] for action in path if action[0] == 'sell']\n",
    "\n",
    "    buy_dates = [dates[i] for i in buy_indices]\n",
    "    buy_prices = [prices[i] for i in buy_indices]\n",
    "\n",
    "    sell_dates = [dates[i] for i in sell_indices]\n",
    "    sell_prices = [prices[i] for i in sell_indices]\n",
    "\n",
    "    # Plotting\n",
    "    plt.figure(figsize=(12, 6))\n",
    "    plt.plot(dates, prices, label='Price', color='blue')\n",
    "    plt.scatter(buy_dates, buy_prices, marker='^', color='green', label='Buy', s=100)\n",
    "    plt.scatter(sell_dates, sell_prices, marker='v', color='red', label='Sell', s=100)\n",
    "    plt.title(f\"{strategy_name} Strategy Trading Positions\")\n",
    "    plt.xlabel('Date')\n",
    "    plt.ylabel('Price (USD)')\n",
    "    plt.legend()\n",
    "    plt.grid(True)\n",
    "    plt.tight_layout()\n",
    "    plt.show()\n"
   ]
  },
  {
   "cell_type": "code",
   "execution_count": 18,
   "id": "786fbd87345f4c52",
   "metadata": {
    "ExecuteTime": {
     "end_time": "2024-11-15T08:53:06.470367Z",
     "start_time": "2024-11-15T08:53:06.234534Z"
    }
   },
   "outputs": [
    {
     "name": "stdout",
     "output_type": "stream",
     "text": [
      "DFS Max Profit: 2131.2218134370364\n",
      "DFS Best Path: [('hold', 0), ('buy', 1), ('hold', 2), ('hold', 3), ('hold', 4), ('hold', 5), ('hold', 6), ('sell', 7), ('buy', 8), ('sell', 9)]\n",
      "BFS Max Profit: 2131.2218134370364\n",
      "BFS Best Path: [('hold', 0), ('buy', 1), ('hold', 2), ('hold', 3), ('hold', 4), ('hold', 5), ('hold', 6), ('sell', 7), ('buy', 8), ('sell', 9)]\n",
      "Heuristic Search Profit: 2131.2218134370364\n",
      "Heuristic Search Path: [('hold', 0), ('buy', 1), ('hold', 2), ('hold', 3), ('hold', 4), ('hold', 5), ('hold', 6), ('sell', 7), ('buy', 8), ('sell', 9)]\n"
     ]
    },
    {
     "data": {
      "image/png": "[encoded data removed]",
      "text/plain": [
       "<Figure size 1200x600 with 1 Axes>"
      ]
     },
     "metadata": {},
     "output_type": "display_data"
    }
   ],
   "source": [
    "# Coin pain\n",
    "pair = 'DOGEUSD'\n",
    "interval = 1440  # Daily data\n",
    "\n",
    "# Fetch historical prices\n",
    "prices, timestamps = get_historical_prices(pair, interval)\n",
    "\n",
    "n = -10 # days\n",
    "prices = prices[n:]\n",
    "timestamps = timestamps[n:]\n",
    "\n",
    "# remember that the coin unit price can't be bigger than budget till now ;)\n",
    "budget = 1000  # Starting budget in USD\n",
    "\n",
    "# Depth-First Search\n",
    "max_result_dfs = {'profit': 0, 'path': []}\n",
    "dfs(prices, budget, 0, 0, [], max_result_dfs)\n",
    "print(\"DFS Max Profit:\", max_result_dfs['profit'])\n",
    "print(\"DFS Best Path:\", max_result_dfs['path'])\n",
    "# plot_positions(prices, timestamps, max_result_dfs['path'], \"DFS\")\n",
    "\n",
    "# Breadth-First Search\n",
    "max_profit_bfs, best_path_bfs = bfs(prices, budget)\n",
    "print(\"BFS Max Profit:\", max_profit_bfs)\n",
    "print(\"BFS Best Path:\", best_path_bfs)\n",
    "# plot_positions(prices, timestamps, best_path_bfs, \"BFS\")\n",
    "\n",
    "\n",
    "# Heuristic Search\n",
    "profit_heuristic, path_heuristic = heuristic_search(prices, budget)\n",
    "print(\"Heuristic Search Profit:\", profit_heuristic)\n",
    "print(\"Heuristic Search Path:\", path_heuristic)\n",
    "\n",
    "plot_positions(prices, timestamps, path_heuristic, \"Heuristic\")"
   ]
  }
 ],
 "metadata": {
  "kernelspec": {
   "display_name": ".venv",
   "language": "python",
   "name": "python3"
  },
  "language_info": {
   "codemirror_mode": {
    "name": "ipython",
    "version": 3
   },
   "file_extension": ".py",
   "mimetype": "text/x-python",
   "name": "python",
   "nbconvert_exporter": "python",
   "pygments_lexer": "ipython3",
   "version": "3.13.0"
  }
 },
 "nbformat": 4,
 "nbformat_minor": 5
}
